{
  "nbformat": 4,
  "nbformat_minor": 0,
  "metadata": {
    "colab": {
      "provenance": [],
      "include_colab_link": true
    },
    "kernelspec": {
      "name": "python3",
      "display_name": "Python 3"
    },
    "language_info": {
      "name": "python"
    }
  },
  "cells": [
    {
      "cell_type": "markdown",
      "metadata": {
        "id": "view-in-github",
        "colab_type": "text"
      },
      "source": [
        "<a href=\"https://colab.research.google.com/github/MeghaGarg045030/PythonProject_Term1/blob/main/Python_Test_1(045030).ipynb\" target=\"_parent\"><img src=\"https://colab.research.google.com/assets/colab-badge.svg\" alt=\"Open In Colab\"/></a>"
      ]
    },
    {
      "cell_type": "markdown",
      "source": [
        "**Q.1** Write a python code which will count the number of unique letters and their frequency.\n",
        "Test the code with the word ‘Anaconda’. (Note: Remove Case Sensitivity)\n",
        "\n",
        "Input: Anaconda\n",
        "\n",
        "Output 1: Number of Unique Letters = 5.\n",
        "\n",
        "Output 2: {a: 3, c: 1, d: 1, n: 2, o: 1}\n"
      ],
      "metadata": {
        "id": "tmRxXxP_QBgQ"
      }
    },
    {
      "cell_type": "code",
      "execution_count": 1,
      "metadata": {
        "colab": {
          "base_uri": "https://localhost:8080/"
        },
        "id": "2DQMw-ieKPYc",
        "outputId": "6da484a9-c1d1-4db5-a327-bb4cdb06e1e2"
      },
      "outputs": [
        {
          "output_type": "stream",
          "name": "stdout",
          "text": [
            "Enter Word :Anaconda\n",
            "Number of Unique Letters = 5\n",
            "Letter Frequencies: {'a': 3, 'n': 2, 'c': 1, 'o': 1, 'd': 1}\n"
          ]
        }
      ],
      "source": [
        "def count_unique_letters(word):#function to count unique letter\n",
        "    word = word.lower()  # Convert the word to lowercase to remove case senstivity\n",
        "    letter_frequency = {}  # Dictionary to store letter frequencies\n",
        "\n",
        "    for letter in word:\n",
        "        if letter.isalpha():  # Check if the character is a letter\n",
        "            if letter in letter_frequency: #appending to letter frequency\n",
        "                letter_frequency[letter] += 1\n",
        "            else:\n",
        "                letter_frequency[letter] = 1\n",
        "\n",
        "    unique_letters = len(letter_frequency)\n",
        "\n",
        "    return unique_letters, letter_frequency\n",
        "\n",
        "word = input(\"Enter Word :\")\n",
        "unique_count, letter_freq = count_unique_letters(word)\n",
        "\n",
        "print(\"Number of Unique Letters =\", unique_count)\n",
        "print(\"Letter Frequencies:\", letter_freq)\n"
      ]
    },
    {
      "cell_type": "markdown",
      "source": [
        "**Q.2** A student’s evaluation is done based on 4 components: Class_Test (10%), Mid_Term (20%), Project (30%) & End_Term (40%).\n",
        "Write a python code to generate a random score between 10 & 90 (use python library: random) and get the evaluation bifurcation (Round off to Nearest Integer).\n",
        "\n",
        "Example\n",
        "\n",
        "Input = 80 (marks)\n",
        "\n",
        "Class_Test = 8 (marks)\n",
        "\n",
        "Mid_Term = 16 (marks)\n",
        "\n",
        "Project = 24 (marks)\n",
        "\n",
        "End_Term = 32 (marks)\n"
      ],
      "metadata": {
        "id": "yVkvdg0DQGrN"
      }
    },
    {
      "cell_type": "code",
      "source": [
        "import random\n",
        "#assingning weights to various components\n",
        "def evaluate_student(total_score):\n",
        "    class_test_weight = 0.10\n",
        "    mid_term_weight = 0.20\n",
        "    project_weight = 0.30\n",
        "    end_term_weight = 0.40\n",
        "\n",
        "    class_test_score = round(total_score * class_test_weight)\n",
        "    mid_term_score = round(total_score * mid_term_weight)\n",
        "    project_score = round(total_score * project_weight)\n",
        "    end_term_score = round(total_score * end_term_weight)\n",
        "\n",
        "    return class_test_score, mid_term_score, project_score, end_term_score\n",
        "\n",
        "# Generate a random total score between 10 and 90\n",
        "random_total_score = random.randint(10, 90)\n",
        "\n",
        "class_test, mid_term, project, end_term = evaluate_student(random_total_score)\n",
        "\n",
        "print(\"Input =\", random_total_score, \"(marks)\")\n",
        "print(\"Class_Test =\", class_test, \"(marks)\")\n",
        "print(\"Mid_Term =\", mid_term, \"(marks)\")\n",
        "print(\"Project =\", project, \"(marks)\")\n",
        "print(\"End_Term =\", end_term, \"(marks)\")\n",
        "\n"
      ],
      "metadata": {
        "colab": {
          "base_uri": "https://localhost:8080/"
        },
        "id": "EVbjeRhiQKJD",
        "outputId": "495749bb-f169-4384-a651-fb06c96c24d5"
      },
      "execution_count": 2,
      "outputs": [
        {
          "output_type": "stream",
          "name": "stdout",
          "text": [
            "Input = 57 (marks)\n",
            "Class_Test = 6 (marks)\n",
            "Mid_Term = 11 (marks)\n",
            "Project = 17 (marks)\n",
            "End_Term = 23 (marks)\n"
          ]
        }
      ]
    },
    {
      "cell_type": "markdown",
      "source": [
        "**Q.3**Write a python code to display the letters occurring commonly in 2 words.\n",
        "Test the code with the words ‘Python’ & ‘Anaconda’. (Note: Remove Case Sensitivity)\n",
        "\n",
        "Input 1: Python\n",
        "\n",
        "Input 2: Anaconda\n",
        "\n",
        "Output: [o, n]\n"
      ],
      "metadata": {
        "id": "0tzYBQISR1X2"
      }
    },
    {
      "cell_type": "code",
      "source": [
        "def common_letters(word1, word2):\n",
        "    word1 = word1.lower()  # Convert the first word to lowercase\n",
        "    word2 = word2.lower()  # Convert the second word to lowercase\n",
        "\n",
        "    letters1 = set(word1)  # Set of letters in the first word\n",
        "    letters2 = set(word2)  # Set of letters in the second word\n",
        "\n",
        "    common_letters = letters1.intersection(letters2)  # Find the common letters\n",
        "\n",
        "    return list(common_letters)\n",
        "\n",
        "input_word1 = \"Python\"\n",
        "input_word2 = \"Anaconda\"\n",
        "#finding common letters\n",
        "common_letters_list = common_letters(input_word1, input_word2)\n",
        "\n",
        "print(\"Commonly Occurring Letters in the words\", input_word1,\"and\", input_word2,\" are\", common_letters_list)\n"
      ],
      "metadata": {
        "colab": {
          "base_uri": "https://localhost:8080/"
        },
        "id": "QfvizCh3R5aJ",
        "outputId": "7271d723-90ea-42dd-a05d-d3760cfcccf7"
      },
      "execution_count": 3,
      "outputs": [
        {
          "output_type": "stream",
          "name": "stdout",
          "text": [
            "Commonly Occurring Letters in the words Python and Anaconda  are ['o', 'n']\n"
          ]
        }
      ]
    },
    {
      "cell_type": "markdown",
      "source": [
        "**Q.4**\n",
        "Write a python code to generate a random score between 0 & 100 (use python library: random). Print the following as output:\n",
        "The score\n",
        "\n",
        "1.‘Grade F’ : If the score is less than 40\n",
        "\n",
        "2.‘Grade C’ : If the score is between 40 & 59\n",
        "\n",
        "3.‘Grade B’ : If the score is between 60 & 84\n",
        "\n",
        "4.‘Grade A’ : If the score is between 85 & 100\n",
        "\n",
        "\n",
        "\n",
        "\n"
      ],
      "metadata": {
        "id": "T4s0y7oJSiDS"
      }
    },
    {
      "cell_type": "code",
      "source": [
        "import random\n",
        "\n",
        "# Generate a random score between 0 and 100\n",
        "score = random.randint(0, 100)\n",
        "\n",
        "# Determine the grade based on the score\n",
        "if score < 40:\n",
        "    grade = 'Grade F'\n",
        "elif score < 60:\n",
        "    grade = 'Grade C'\n",
        "elif score < 85:\n",
        "    grade = 'Grade B'\n",
        "else:\n",
        "    grade = 'Grade A'\n",
        "\n",
        "# Print the score and corresponding grade\n",
        "print(\"The score:\", score)\n",
        "print(grade)\n"
      ],
      "metadata": {
        "colab": {
          "base_uri": "https://localhost:8080/"
        },
        "id": "l3XJEauCSj30",
        "outputId": "02bc8c03-5a4b-485c-bb49-983334c38168"
      },
      "execution_count": 4,
      "outputs": [
        {
          "output_type": "stream",
          "name": "stdout",
          "text": [
            "The score: 15\n",
            "Grade F\n"
          ]
        }
      ]
    },
    {
      "cell_type": "markdown",
      "source": [
        "**Q.5**Write a python code to generate a random number between 1 & 99 (use python library: random). Print the following as output:\n",
        "\n",
        "1.The random number [say, 9]\n",
        "\n",
        "2.List of even numbers up to the random number [2, 4, 6, 8]\n",
        "\n",
        "3.List of odd numbers up to the random number [1, 3, 5, 7, 9]\n",
        "\n",
        "4.List of prime numbers up to the random number [2, 3, 5, 7]\n"
      ],
      "metadata": {
        "id": "Osz8ED0hSubq"
      }
    },
    {
      "cell_type": "code",
      "source": [
        "import random\n",
        "\n",
        "def is_prime(num):\n",
        "    if num <= 1:\n",
        "        return False\n",
        "    if num <= 3:\n",
        "        return True\n",
        "    if num % 2 == 0 or num % 3 == 0:\n",
        "        return False\n",
        "    i = 5\n",
        "    while i * i <= num:\n",
        "        if num % i == 0 or num % (i + 2) == 0:\n",
        "            return False\n",
        "        i += 6\n",
        "    return True\n",
        "\n",
        "# Generate a random number between 1 and 99\n",
        "random_number = random.randint(1, 99)\n",
        "\n",
        "# Create lists of even, odd, and prime numbers up to the random number\n",
        "even_numbers = [num for num in range(2, random_number + 1) if num % 2 == 0]\n",
        "odd_numbers = [num for num in range(1, random_number + 1) if num % 2 == 1]\n",
        "prime_numbers = [num for num in range(2, random_number + 1) if is_prime(num)]\n",
        "\n",
        "# Print the random number and lists\n",
        "print(\"The random number:\", random_number)\n",
        "print(\"List of even numbers up to the random number \",random_number, \":\", even_numbers)\n",
        "print(\"List of odd numbers up to the random number:\",random_number, \":\", odd_numbers)\n",
        "print(\"List of prime numbers up to the random number:\",random_number, \":\", prime_numbers)\n"
      ],
      "metadata": {
        "colab": {
          "base_uri": "https://localhost:8080/"
        },
        "id": "JFqR7MlpSwFr",
        "outputId": "b25339ba-0ae0-42bd-dcc3-374734f17ef9"
      },
      "execution_count": 5,
      "outputs": [
        {
          "output_type": "stream",
          "name": "stdout",
          "text": [
            "The random number: 14\n",
            "List of even numbers up to the random number  14 : [2, 4, 6, 8, 10, 12, 14]\n",
            "List of odd numbers up to the random number: 14 : [1, 3, 5, 7, 9, 11, 13]\n",
            "List of prime numbers up to the random number: 14 : [2, 3, 5, 7, 11, 13]\n"
          ]
        }
      ]
    },
    {
      "cell_type": "markdown",
      "source": [
        "**Q.6**Write a python code to generate a 4-digit random number between 1000 & 9999 (use python library: random). Print each digit with its place value.\n",
        "\n",
        "Example\n",
        "\n",
        "Input: 4321\n",
        "\n",
        "Output: {4: Thousands, 3: Hundreds, 2: Tens, 1: Ones}\n"
      ],
      "metadata": {
        "id": "3OBMSuzHTHn3"
      }
    },
    {
      "cell_type": "code",
      "source": [
        "import random\n",
        "\n",
        "# Generate a random 4-digit number between 1000 and 9999\n",
        "random_number = random.randint(1000, 9999)\n",
        "\n",
        "# Extract individual digits\n",
        "thousands_digit = random_number // 1000\n",
        "hundreds_digit = (random_number // 100) % 10\n",
        "tens_digit = (random_number // 10) % 10\n",
        "units_digit = random_number % 10\n",
        "\n",
        "# Print each digit with its place value\n",
        "print(\"Random 4-digit number:\", random_number)\n",
        "print(\"Thousands digit:\", thousands_digit)\n",
        "print(\"Hundreds digit:\", hundreds_digit)\n",
        "print(\"Tens digit:\", tens_digit)\n",
        "print(\"Units digit:\", units_digit)\n"
      ],
      "metadata": {
        "colab": {
          "base_uri": "https://localhost:8080/"
        },
        "id": "C7TQKRDbTKiS",
        "outputId": "01b374ff-7143-43b5-dbc5-bf28939b4534"
      },
      "execution_count": 6,
      "outputs": [
        {
          "output_type": "stream",
          "name": "stdout",
          "text": [
            "Random 4-digit number: 3949\n",
            "Thousands digit: 3\n",
            "Hundreds digit: 9\n",
            "Tens digit: 4\n",
            "Units digit: 9\n"
          ]
        }
      ]
    },
    {
      "cell_type": "markdown",
      "source": [
        "**Q.7**Write a python code to generate 5 random numbers between -9 & +9 (use python library: random). Print the list of 5 random numbers and their sum.\n"
      ],
      "metadata": {
        "id": "wOGV7lVGTNzL"
      }
    },
    {
      "cell_type": "code",
      "source": [
        "import random\n",
        "\n",
        "# Generate a list of 5 random numbers between -9 and +9\n",
        "random_numbers = [random.randint(-9, 9) for _ in range(5)]\n",
        "\n",
        "# Calculate the sum of the random numbers\n",
        "sum_random_numbers = sum(random_numbers)\n",
        "\n",
        "# Print the list of random numbers and their sum\n",
        "print(\"List of 5 random numbers:\", random_numbers)\n",
        "print(\"Sum of the random numbers:\", sum_random_numbers)\n"
      ],
      "metadata": {
        "colab": {
          "base_uri": "https://localhost:8080/"
        },
        "id": "UeX8NY7FTPae",
        "outputId": "29c74288-dbca-403e-fe14-728e9e563e34"
      },
      "execution_count": 7,
      "outputs": [
        {
          "output_type": "stream",
          "name": "stdout",
          "text": [
            "List of 5 random numbers: [7, -9, -5, -4, 9]\n",
            "Sum of the random numbers: -2\n"
          ]
        }
      ]
    },
    {
      "cell_type": "markdown",
      "source": [
        "**Q.8**Write a python code to calculate the number of Years, Months & Days, with respect to Today, given a Date.\n",
        "\n",
        "Example\n",
        "\n",
        "Input: 15-08-1947 or August 15, 1947\n",
        "\n",
        "Output: {Years: 77, Months: 01, Days: 01} (As on Aug 16, 2023)\n"
      ],
      "metadata": {
        "id": "T8PH2yg8TWw4"
      }
    },
    {
      "cell_type": "code",
      "source": [
        "from datetime import datetime\n",
        "#calculating date today\n",
        "def calculate_age(date):\n",
        "    today = datetime.today()\n",
        "    date = datetime.strptime(date, \"%Y-%m-%d\")\n",
        "\n",
        "    # Calculate the difference between dates\n",
        "    delta = today - date\n",
        "\n",
        "    years = delta.days // 365\n",
        "    months = (delta.days % 365) // 30\n",
        "    days = delta.days % 30\n",
        "\n",
        "    return years, months, days\n",
        "\n",
        "# Input date in the format \"YYYY-MM-DD\"\n",
        "input_date=input(\"Enter date(format YYYY-MM-DD) :\")\n",
        "years, months, days = calculate_age(input_date)\n",
        "\n",
        "print(\"Years:\", years)\n",
        "print(\"Months:\", months)\n",
        "print(\"Days:\", days)\n",
        "\n"
      ],
      "metadata": {
        "colab": {
          "base_uri": "https://localhost:8080/"
        },
        "id": "chnM_IwRTYtg",
        "outputId": "03f5d821-20c2-47c6-c805-93b6e32bdc88"
      },
      "execution_count": 8,
      "outputs": [
        {
          "output_type": "stream",
          "name": "stdout",
          "text": [
            "Enter date(format YYYY-MM-DD) :1847-08-15\n",
            "Years: 176\n",
            "Months: 2\n",
            "Days: 18\n"
          ]
        }
      ]
    },
    {
      "cell_type": "markdown",
      "source": [
        "**Q.9**Write a python code to generate the following ‘diamond’ pattern.\n"
      ],
      "metadata": {
        "id": "ViqOjjHvTmXc"
      }
    },
    {
      "cell_type": "code",
      "source": [
        "def gotonextLine(k, i, z):\n",
        "  # base case\n",
        "    if (k == i):\n",
        "      return\n",
        "    print(\"* \", end=\"\"),\n",
        "    gotonextLine(k + z, i, z)\n",
        "\n",
        "# print blank space of diamond\n",
        "def addblankSpaceInDiamond(j,i,z):\n",
        "    if (j == i):\n",
        "      return\n",
        "    print(\" \",end=\"\"),\n",
        "    addblankSpaceInDiamond(j + z, i, z)\n",
        "\n",
        "def upperDiamond(row,i):\n",
        "  # base case\n",
        "    if (i > row):\n",
        "      return\n",
        "    addblankSpaceInDiamond(row, i, -1)\n",
        "    gotonextLine(0, i, 1)\n",
        "    print(\"\\n\",end=\"\"),\n",
        "    upperDiamond(row, i + 1) # recursive call\n",
        "\n",
        "\n",
        "def lowerDiamond(row,i):\n",
        "  # print the next line of diamond\n",
        "    if (i > row): # base case\n",
        "      return\n",
        "    addblankSpaceInDiamond(0, i, 1)\n",
        "    gotonextLine(row, i, -1)\n",
        "    print(\"\\n\",end=\"\"),\n",
        "    lowerDiamond(row, i + 1)\n",
        "\n",
        "# Code\n",
        "row = 5\n",
        "upperDiamond(row, 0) # print upper part of triangle\n",
        "lowerDiamond(row, 1) # print lower part of diamond"
      ],
      "metadata": {
        "colab": {
          "base_uri": "https://localhost:8080/"
        },
        "id": "gEehVfayToDf",
        "outputId": "d91726ae-fe5a-4830-9d1b-ed9a555c9413"
      },
      "execution_count": 9,
      "outputs": [
        {
          "output_type": "stream",
          "name": "stdout",
          "text": [
            "     \n",
            "    * \n",
            "   * * \n",
            "  * * * \n",
            " * * * * \n",
            "* * * * * \n",
            " * * * * \n",
            "  * * * \n",
            "   * * \n",
            "    * \n",
            "     \n"
          ]
        }
      ]
    },
    {
      "cell_type": "markdown",
      "source": [
        "**Q.10**Write a python code to create a list of 10 random letters (say List A). Create a copy of List A (say List B). Shuffle both List A & B. Treat each element of List A (say a) as Source and the corresponding element of List B (say b) as Destination. It is assumed that a from list A is connected to b from List B. Map the network of all connected elements such that an inquiry of any element will show the connected paths to & from the element."
      ],
      "metadata": {
        "id": "j0qlIkRKT8P-"
      }
    },
    {
      "cell_type": "code",
      "source": [
        "import random\n",
        "\n",
        "def create_connected_network(list_a, list_b):\n",
        "    network = {}\n",
        "    '''The loop for source, destination in zip(list_a, list_b): iterates over pairs of elements from list_a and list_b.\n",
        "    It establishes a connection from the source element to the destination element.'''\n",
        "    for source, dest in zip(list_a, list_b):\n",
        "        if source not in network:\n",
        "            network[source] = []\n",
        "        network[source].append(dest)\n",
        "\n",
        "        if dest not in network:\n",
        "            network[dest] = []\n",
        "        network[dest].append(source)\n",
        "\n",
        "    return network\n",
        "\n",
        "# Create a list of 10 random letters (List A)\n",
        "list_a = [chr(random.randint(65, 90)) for _ in range(10)]\n",
        "\n",
        "# Create a copy of List A (List B)\n",
        "list_b = list(list_a)\n",
        "\n",
        "# Shuffle both List A and List B\n",
        "random.shuffle(list_a)\n",
        "random.shuffle(list_b)\n",
        "\n",
        "# Create the connected network\n",
        "connected_network = create_connected_network(list_a, list_b)\n",
        "\n",
        "# Function to inquire about connected paths\n",
        "'''the code tests the inquire() function by randomly selecting an element from list_a and inquiring about its connections.'''\n",
        "def inquire(element):\n",
        "    if element in connected_network:\n",
        "        return connected_network[element]\n",
        "    else:\n",
        "        return []\n",
        "\n",
        "# Print the lists and the connected network\n",
        "print(\"List A:\", list_a)\n",
        "print(\"List B:\", list_b)\n",
        "print(\"Connected Network:\", connected_network)\n",
        "\n",
        "# Example inquiries\n",
        "element_to_inquire = list_a[0]\n",
        "print(f\"Connected paths for '{element_to_inquire}':\", inquire(element_to_inquire))\n"
      ],
      "metadata": {
        "colab": {
          "base_uri": "https://localhost:8080/"
        },
        "id": "bPMsgyQbT-sN",
        "outputId": "9c446a22-8c87-406c-f3e3-ba6df150106f"
      },
      "execution_count": 10,
      "outputs": [
        {
          "output_type": "stream",
          "name": "stdout",
          "text": [
            "List A: ['U', 'Y', 'P', 'W', 'F', 'C', 'A', 'K', 'X', 'I']\n",
            "List B: ['P', 'A', 'W', 'F', 'K', 'I', 'U', 'Y', 'X', 'C']\n",
            "Connected Network: {'U': ['P', 'A'], 'P': ['U', 'W'], 'Y': ['A', 'K'], 'A': ['Y', 'U'], 'W': ['P', 'F'], 'F': ['W', 'K'], 'K': ['F', 'Y'], 'C': ['I', 'I'], 'I': ['C', 'C'], 'X': ['X', 'X']}\n",
            "Connected paths for 'U': ['P', 'A']\n"
          ]
        }
      ]
    }
  ]
}