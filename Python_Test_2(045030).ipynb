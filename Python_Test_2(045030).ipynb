{
  "nbformat": 4,
  "nbformat_minor": 0,
  "metadata": {
    "colab": {
      "provenance": [],
      "include_colab_link": true
    },
    "kernelspec": {
      "name": "python3",
      "display_name": "Python 3"
    },
    "language_info": {
      "name": "python"
    }
  },
  "cells": [
    {
      "cell_type": "markdown",
      "metadata": {
        "id": "view-in-github",
        "colab_type": "text"
      },
      "source": [
        "<a href=\"https://colab.research.google.com/github/MeghaGarg045030/PythonProject_Term1/blob/main/Python_Test_2(045030).ipynb\" target=\"_parent\"><img src=\"https://colab.research.google.com/assets/colab-badge.svg\" alt=\"Open In Colab\"/></a>"
      ]
    },
    {
      "cell_type": "markdown",
      "source": [
        "1.1. Solve for x, y & z where:\n",
        "\n",
        "Eq1 : x + y + z = 2 | Eq2 : 6x - 4y + 5z = 31 | Eq3: 5x + 2y + 2z = 13\n"
      ],
      "metadata": {
        "id": "NAXkKRywGV-4"
      }
    },
    {
      "cell_type": "code",
      "source": [
        "# Given equations\n",
        "eq1 = lambda x, y, z: x + y + z - 2\n",
        "eq2 = lambda x, y, z: 6*x - 4*y + 5*z - 31\n",
        "eq3 = lambda x, y, z: 5*x + 2*y + 2*z - 13\n",
        "\n",
        "# Solve for z using Eq1\n",
        "def solve_for_z(x, y):\n",
        "    return 2 - x - y\n",
        "\n",
        "# Solve for y using Eq2 and Eq3\n",
        "def solve_for_y(x, z):\n",
        "    return (-31 + 6*x + 5*z) / -4\n",
        "\n",
        "def solve_system():\n",
        "    for x in range(-100, 101):  # Assume a range for x\n",
        "        for y in range(-100, 101):  # Assume a range for y\n",
        "            z = solve_for_z(x, y)\n",
        "            if eq1(x, y, z) == 0 and eq2(x, y, z) == 0 and eq3(x, y, z) == 0:\n",
        "                return x, y, z\n",
        "    return None\n",
        "\n",
        "# Solve the system of equations\n",
        "solution = solve_system()\n",
        "\n",
        "if solution is not None:\n",
        "    x, y, z = solution\n",
        "    print(\"Solution:\")\n",
        "    print(\"x =\", x)\n",
        "    print(\"y =\", y)\n",
        "    print(\"z =\", z)\n",
        "else:\n",
        "    print(\"No solution found in the given range.\")\n"
      ],
      "metadata": {
        "colab": {
          "base_uri": "https://localhost:8080/"
        },
        "id": "yX1vGt1xGcF4",
        "outputId": "d9b204e8-aefc-4ae1-e1f1-7a43edb3c4b7"
      },
      "execution_count": 1,
      "outputs": [
        {
          "output_type": "stream",
          "name": "stdout",
          "text": [
            "Solution:\n",
            "x = 3\n",
            "y = -2\n",
            "z = 1\n"
          ]
        }
      ]
    },
    {
      "cell_type": "markdown",
      "source": [
        "2.1. Create a Employee Dictionary 'emp_dict' with the given Information"
      ],
      "metadata": {
        "id": "_AgEkp_yGfrE"
      }
    },
    {
      "cell_type": "code",
      "source": [
        "emp_dict = {\n",
        "    'ABC': {'Name': 'ABC', 'Education': 'Graduate', 'Gender': 'Male'},\n",
        "    'DEF': {'Name': 'DEF', 'Education': 'Postgraduate', 'Gender': 'Female'},\n",
        "    'GHI': {'Name': 'GHI', 'Education': 'Postgraduate', 'Gender': 'Male'},\n",
        "    'JKL': {'Name': 'JKL', 'Education': 'Graduate', 'Gender': 'Other'},\n",
        "    'MNO': {'Name': 'MNO', 'Education': 'Graduate', 'Gender': 'Female'},\n",
        "    'PQR': {'Name': 'PQR', 'Education': 'Postgraduate', 'Gender': 'Female'},\n",
        "    'STU': {'Name': 'STU', 'Education': 'Graduate', 'Gender': 'Male'}\n",
        "}\n",
        "def print_employee_table(emp_dict):\n",
        "  # Print the table header\n",
        "    print(\"{:<15} {:<15} {:<10}\".format(\"Name\", \"Education\", \"Gender\"))\n",
        "    print(\"=\"*40) # Print a line of equal signs for separation\n",
        "\n",
        "# Loop through employee information in emp_dict and print the table rows\n",
        "    for emp_info in emp_dict.values():\n",
        "      # Extract employee information from emp_info dictionary\n",
        "        name = emp_info['Name']\n",
        "        education = emp_info['Education']\n",
        "        gender = emp_info['Gender']\n",
        "        print(\"{:<15} {:<15} {:<10}\".format(name, education, gender))\n",
        "\n",
        "print_employee_table(emp_dict)"
      ],
      "metadata": {
        "colab": {
          "base_uri": "https://localhost:8080/"
        },
        "id": "lvD9IoacGknL",
        "outputId": "aa897691-94e8-437c-8f04-f543f038ea40"
      },
      "execution_count": 2,
      "outputs": [
        {
          "output_type": "stream",
          "name": "stdout",
          "text": [
            "Name            Education       Gender    \n",
            "========================================\n",
            "ABC             Graduate        Male      \n",
            "DEF             Postgraduate    Female    \n",
            "GHI             Postgraduate    Male      \n",
            "JKL             Graduate        Other     \n",
            "MNO             Graduate        Female    \n",
            "PQR             Postgraduate    Female    \n",
            "STU             Graduate        Male      \n"
          ]
        }
      ]
    },
    {
      "cell_type": "markdown",
      "source": [
        "2.2. Update the Employee Dictionary 'emp_dict' with the given age column Information"
      ],
      "metadata": {
        "id": "pJXHgEtzHUs2"
      }
    },
    {
      "cell_type": "code",
      "source": [
        "#updating dictionary\n",
        "age_values = [22, 27, 26, 23, 24, 30, 21]\n",
        "\n",
        "for index, (emp_id, emp_info) in enumerate(emp_dict.items()):\n",
        "    emp_info['Age'] = age_values[index]\n",
        "#printing updated dictionary\n",
        "def print_employee_table(emp_dict):\n",
        "    print(\"{:<15} {:<15} {:<10} {:<5}\".format(\"Name\", \"Education\", \"Gender\", \"Age\"))\n",
        "    print(\"=\"*50)\n",
        "\n",
        "    for emp_info in emp_dict.values():\n",
        "        name = emp_info['Name']\n",
        "        education = emp_info['Education']\n",
        "        gender = emp_info['Gender']\n",
        "        age = emp_info['Age']\n",
        "        print(\"{:<15} {:<15} {:<10} {:<5}\".format(name, education, gender, age))\n",
        "\n",
        "print_employee_table(emp_dict)"
      ],
      "metadata": {
        "colab": {
          "base_uri": "https://localhost:8080/"
        },
        "id": "FFInwIoYHjFm",
        "outputId": "5d85e956-4d03-4bff-bc85-ce98d557822e"
      },
      "execution_count": 3,
      "outputs": [
        {
          "output_type": "stream",
          "name": "stdout",
          "text": [
            "Name            Education       Gender     Age  \n",
            "==================================================\n",
            "ABC             Graduate        Male       22   \n",
            "DEF             Postgraduate    Female     27   \n",
            "GHI             Postgraduate    Male       26   \n",
            "JKL             Graduate        Other      23   \n",
            "MNO             Graduate        Female     24   \n",
            "PQR             Postgraduate    Female     30   \n",
            "STU             Graduate        Male       21   \n"
          ]
        }
      ]
    },
    {
      "cell_type": "markdown",
      "source": [
        "3.1. Create a Dataframe 'emp_df' from the Dictionary 'emp_dict'\n",
        "\n",
        "3.2. Update the Dataframe 'emp_df' with the given Information\n"
      ],
      "metadata": {
        "id": "5ySo8eakH7FY"
      }
    },
    {
      "cell_type": "code",
      "source": [
        "import pandas as pd\n",
        "\n",
        "# Existing employee dictionary\n",
        "emp_dict = {\n",
        "    'ABC': {'Name': 'ABC', 'Education': 'Graduate', 'Gender': 'Male', 'Age': 22},\n",
        "    'DEF': {'Name': 'DEF', 'Education': 'Postgraduate', 'Gender': 'Female', 'Age': 27},\n",
        "    'GHI': {'Name': 'GHI', 'Education': 'Postgraduate', 'Gender': 'Male', 'Age': 26},\n",
        "    'JKL': {'Name': 'JKL', 'Education': 'Graduate', 'Gender': 'Other', 'Age': 23},\n",
        "    'MNO': {'Name': 'MNO', 'Education': 'Graduate', 'Gender': 'Female', 'Age': 24},\n",
        "    'PQR': {'Name': 'PQR', 'Education': 'Postgraduate', 'Gender': 'Female', 'Age': 30},\n",
        "    'STU': {'Name': 'STU', 'Education': 'Graduate', 'Gender': 'Male', 'Age': 21}\n",
        "}\n",
        "\n",
        "# Creating the emp_df DataFrame\n",
        "emp_df = pd.DataFrame.from_dict(emp_dict, orient='index')\n",
        "\n",
        "# Adding the 'Salary_Lakhs' and 'Bonus%' columns\n",
        "salary = [6, 15, 20, 5, 10, 18, 12]\n",
        "bonus_percentage = [12.50,8.75,6.25,10.20,13.60,11.40,9.80]\n",
        "emp_df['Salary_Lakhs'] = salary\n",
        "emp_df['Bonus%'] = bonus_percentage\n",
        "\n",
        "print(\"Dataframe emp_df with added columns:\")\n",
        "print(emp_df)\n"
      ],
      "metadata": {
        "colab": {
          "base_uri": "https://localhost:8080/"
        },
        "id": "-we_udFtIgE5",
        "outputId": "daf92a1a-7e28-4619-9df6-a4ac0be6ae25"
      },
      "execution_count": 4,
      "outputs": [
        {
          "output_type": "stream",
          "name": "stdout",
          "text": [
            "Dataframe emp_df with added columns:\n",
            "    Name     Education  Gender  Age  Salary_Lakhs  Bonus%\n",
            "ABC  ABC      Graduate    Male   22             6   12.50\n",
            "DEF  DEF  Postgraduate  Female   27            15    8.75\n",
            "GHI  GHI  Postgraduate    Male   26            20    6.25\n",
            "JKL  JKL      Graduate   Other   23             5   10.20\n",
            "MNO  MNO      Graduate  Female   24            10   13.60\n",
            "PQR  PQR  Postgraduate  Female   30            18   11.40\n",
            "STU  STU      Graduate    Male   21            12    9.80\n"
          ]
        }
      ]
    },
    {
      "cell_type": "markdown",
      "source": [
        "3.3. Update the Dataframe ‘emp_df’ with the given information\n",
        "\n",
        "\n"
      ],
      "metadata": {
        "id": "837UJrEPJf5a"
      }
    },
    {
      "cell_type": "code",
      "source": [
        "import pandas as pd\n",
        "\n",
        "# Existing employee dictionary\n",
        "emp_dict = {\n",
        "    'ABC': {'Name': 'ABC', 'Education': 'Graduate', 'Gender': 'Male'},\n",
        "    'DEF': {'Name': 'DEF', 'Education': 'Postgraduate', 'Gender': 'Female'},\n",
        "    'GHI': {'Name': 'GHI', 'Education': 'Postgraduate', 'Gender': 'Male'},\n",
        "    'JKL': {'Name': 'JKL', 'Education': 'Graduate', 'Gender': 'Other'},\n",
        "    'MNO': {'Name': 'MNO', 'Education': 'Graduate', 'Gender': 'Female'},\n",
        "    'PQR': {'Name': 'PQR', 'Education': 'Postgraduate', 'Gender': 'Female'},\n",
        "    'STU': {'Name': 'STU', 'Education': 'Graduate', 'Gender': 'Male'}\n",
        "}\n",
        "\n",
        "# Additional employee information\n",
        "new_emp_data = {\n",
        "    'VWX': {'Name': 'VWX', 'Education': 'Postgraduate', 'Gender': 'Male', 'Age': 35, 'Salary_Lakhs': 14.0, 'Bonus%': 5.50},\n",
        "    'YZA': {'Name': 'YZA', 'Education': 'Graduate', 'Gender': 'Female', 'Age': 28, 'Salary_Lakhs': 7.0, 'Bonus%': 7.75},\n",
        "    'BCD': {'Name': 'BCD', 'Education': 'Postgraduate', 'Gender': 'Other', 'Age': 32, 'Salary_Lakhs': 8.0, 'Bonus%': 14.80}\n",
        "}\n",
        "\n",
        "# To extend emp_dict with new employee data\n",
        "emp_dict.update(new_emp_data)\n",
        "\n",
        "# Create the DataFrame\n",
        "emp_df = pd.DataFrame.from_dict(emp_dict, orient='index')\n",
        "\n",
        "print(emp_df)\n"
      ],
      "metadata": {
        "colab": {
          "base_uri": "https://localhost:8080/"
        },
        "id": "NcickA-LJtoc",
        "outputId": "22af39d0-3c07-482e-ceb9-7e6ad4c95b70"
      },
      "execution_count": 5,
      "outputs": [
        {
          "output_type": "stream",
          "name": "stdout",
          "text": [
            "    Name     Education  Gender   Age  Salary_Lakhs  Bonus%\n",
            "ABC  ABC      Graduate    Male   NaN           NaN     NaN\n",
            "DEF  DEF  Postgraduate  Female   NaN           NaN     NaN\n",
            "GHI  GHI  Postgraduate    Male   NaN           NaN     NaN\n",
            "JKL  JKL      Graduate   Other   NaN           NaN     NaN\n",
            "MNO  MNO      Graduate  Female   NaN           NaN     NaN\n",
            "PQR  PQR  Postgraduate  Female   NaN           NaN     NaN\n",
            "STU  STU      Graduate    Male   NaN           NaN     NaN\n",
            "VWX  VWX  Postgraduate    Male  35.0          14.0    5.50\n",
            "YZA  YZA      Graduate  Female  28.0           7.0    7.75\n",
            "BCD  BCD  Postgraduate   Other  32.0           8.0   14.80\n"
          ]
        }
      ]
    },
    {
      "cell_type": "markdown",
      "source": [
        "3.4. Create a Column ‘Gross_Salary_Lakhs’ with the following information:\n",
        "\n",
        "Gross_Salary_Lakhs = Salary_Lakhs * (1 + Bonus%)\n"
      ],
      "metadata": {
        "id": "qQDgIfNVKJgK"
      }
    },
    {
      "cell_type": "code",
      "source": [
        "# Calculate Gross_Salary_Lakhs and add it as a new column\n",
        "emp_df['Gross_Salary_Lakhs'] = emp_df['Salary_Lakhs'] * (1 + emp_df['Bonus%'] / 100)\n",
        "\n",
        "print(\"DataFrame with Gross Salary:\")\n",
        "print(emp_df)\n"
      ],
      "metadata": {
        "colab": {
          "base_uri": "https://localhost:8080/"
        },
        "id": "PfTByEqLKLhz",
        "outputId": "e6de8955-1fad-40b4-e0aa-8cd87ad4fb1e"
      },
      "execution_count": 6,
      "outputs": [
        {
          "output_type": "stream",
          "name": "stdout",
          "text": [
            "DataFrame with Gross Salary:\n",
            "    Name     Education  Gender   Age  Salary_Lakhs  Bonus%  Gross_Salary_Lakhs\n",
            "ABC  ABC      Graduate    Male   NaN           NaN     NaN                 NaN\n",
            "DEF  DEF  Postgraduate  Female   NaN           NaN     NaN                 NaN\n",
            "GHI  GHI  Postgraduate    Male   NaN           NaN     NaN                 NaN\n",
            "JKL  JKL      Graduate   Other   NaN           NaN     NaN                 NaN\n",
            "MNO  MNO      Graduate  Female   NaN           NaN     NaN                 NaN\n",
            "PQR  PQR  Postgraduate  Female   NaN           NaN     NaN                 NaN\n",
            "STU  STU      Graduate    Male   NaN           NaN     NaN                 NaN\n",
            "VWX  VWX  Postgraduate    Male  35.0          14.0    5.50             14.7700\n",
            "YZA  YZA      Graduate  Female  28.0           7.0    7.75              7.5425\n",
            "BCD  BCD  Postgraduate   Other  32.0           8.0   14.80              9.1840\n"
          ]
        }
      ]
    },
    {
      "cell_type": "markdown",
      "source": [
        "4.1. Create a Subset ‘emp_df_ss’ from ‘emp_df’ with the following Variables:\n",
        "\n",
        "{Name, Age, Gross_Salary_Lakhs}"
      ],
      "metadata": {
        "id": "aUaxJVUdKfCl"
      }
    },
    {
      "cell_type": "code",
      "source": [
        "# Creating the subset emp_df_ss\n",
        "emp_df_ss = emp_df[['Name', 'Age', 'Gross_Salary_Lakhs']]\n",
        "\n",
        "print(\"Subset emp_df_ss:\")\n",
        "print(emp_df_ss)\n"
      ],
      "metadata": {
        "colab": {
          "base_uri": "https://localhost:8080/"
        },
        "id": "g1aGQnnAKfIl",
        "outputId": "8aaa985b-90ff-4445-f440-708d6c8ffdda"
      },
      "execution_count": 7,
      "outputs": [
        {
          "output_type": "stream",
          "name": "stdout",
          "text": [
            "Subset emp_df_ss:\n",
            "    Name   Age  Gross_Salary_Lakhs\n",
            "ABC  ABC   NaN                 NaN\n",
            "DEF  DEF   NaN                 NaN\n",
            "GHI  GHI   NaN                 NaN\n",
            "JKL  JKL   NaN                 NaN\n",
            "MNO  MNO   NaN                 NaN\n",
            "PQR  PQR   NaN                 NaN\n",
            "STU  STU   NaN                 NaN\n",
            "VWX  VWX  35.0             14.7700\n",
            "YZA  YZA  28.0              7.5425\n",
            "BCD  BCD  32.0              9.1840\n"
          ]
        }
      ]
    },
    {
      "cell_type": "markdown",
      "source": [
        "5.1. Create a Copy of 'emp_df' Named as 'emp_df_age_sorted' and Sort {Highest to Lowest} by 'Age'"
      ],
      "metadata": {
        "id": "ILr1-KSsKmN3"
      }
    },
    {
      "cell_type": "code",
      "source": [
        "# Creating a copy of emp_df and sorting by Age\n",
        "emp_df_age_sorted = emp_df.copy()\n",
        "emp_df_age_sorted = emp_df_age_sorted.sort_values(by='Age', ascending=False)\n",
        "\n",
        "print(\"emp_df_age_sorted:\")\n",
        "print(emp_df_age_sorted)\n"
      ],
      "metadata": {
        "colab": {
          "base_uri": "https://localhost:8080/"
        },
        "id": "kWQXkC8NKmTp",
        "outputId": "b310b1d1-fa92-4d02-a466-cbbe0c5612ca"
      },
      "execution_count": 8,
      "outputs": [
        {
          "output_type": "stream",
          "name": "stdout",
          "text": [
            "emp_df_age_sorted:\n",
            "    Name     Education  Gender   Age  Salary_Lakhs  Bonus%  Gross_Salary_Lakhs\n",
            "VWX  VWX  Postgraduate    Male  35.0          14.0    5.50             14.7700\n",
            "BCD  BCD  Postgraduate   Other  32.0           8.0   14.80              9.1840\n",
            "YZA  YZA      Graduate  Female  28.0           7.0    7.75              7.5425\n",
            "ABC  ABC      Graduate    Male   NaN           NaN     NaN                 NaN\n",
            "DEF  DEF  Postgraduate  Female   NaN           NaN     NaN                 NaN\n",
            "GHI  GHI  Postgraduate    Male   NaN           NaN     NaN                 NaN\n",
            "JKL  JKL      Graduate   Other   NaN           NaN     NaN                 NaN\n",
            "MNO  MNO      Graduate  Female   NaN           NaN     NaN                 NaN\n",
            "PQR  PQR  Postgraduate  Female   NaN           NaN     NaN                 NaN\n",
            "STU  STU      Graduate    Male   NaN           NaN     NaN                 NaN\n"
          ]
        }
      ]
    },
    {
      "cell_type": "markdown",
      "source": [
        "5.2. Create a Copy of 'emp_df' Named as 'emp_df_age_salary_sorted' and Sort:\n",
        "\n",
        "First by 'Age' {Lowest to Highest}, Second by 'Gross_Salary_Lakhs' {Highest to Lowest}"
      ],
      "metadata": {
        "id": "st556Ys2LYa6"
      }
    },
    {
      "cell_type": "code",
      "source": [
        "# Creating a copy of emp_df and sorting by Age and Gross_Salary_Lakhs\n",
        "emp_df_age_salary_sorted = emp_df.copy()\n",
        "emp_df_age_salary_sorted = emp_df_age_salary_sorted.sort_values(by=['Age', 'Gross_Salary_Lakhs'], ascending=[True, False])\n",
        "\n",
        "print(\"emp_df_age_salary_sorted:\")\n",
        "print(emp_df_age_salary_sorted)\n"
      ],
      "metadata": {
        "colab": {
          "base_uri": "https://localhost:8080/"
        },
        "id": "GOreoaOBLYla",
        "outputId": "1545d131-1ebc-43b4-b696-5b868057f2c3"
      },
      "execution_count": 9,
      "outputs": [
        {
          "output_type": "stream",
          "name": "stdout",
          "text": [
            "emp_df_age_salary_sorted:\n",
            "    Name     Education  Gender   Age  Salary_Lakhs  Bonus%  Gross_Salary_Lakhs\n",
            "YZA  YZA      Graduate  Female  28.0           7.0    7.75              7.5425\n",
            "BCD  BCD  Postgraduate   Other  32.0           8.0   14.80              9.1840\n",
            "VWX  VWX  Postgraduate    Male  35.0          14.0    5.50             14.7700\n",
            "ABC  ABC      Graduate    Male   NaN           NaN     NaN                 NaN\n",
            "DEF  DEF  Postgraduate  Female   NaN           NaN     NaN                 NaN\n",
            "GHI  GHI  Postgraduate    Male   NaN           NaN     NaN                 NaN\n",
            "JKL  JKL      Graduate   Other   NaN           NaN     NaN                 NaN\n",
            "MNO  MNO      Graduate  Female   NaN           NaN     NaN                 NaN\n",
            "PQR  PQR  Postgraduate  Female   NaN           NaN     NaN                 NaN\n",
            "STU  STU      Graduate    Male   NaN           NaN     NaN                 NaN\n"
          ]
        }
      ]
    },
    {
      "cell_type": "markdown",
      "source": [
        "6.1. Create a Dataframe ‘emp_df_filtered’ to Filter ‘emp_df’ using the following Information:\n",
        "\n",
        "'Age' >= 25 & 'Gender' = 'Female'"
      ],
      "metadata": {
        "id": "J-wALWPWLq-b"
      }
    },
    {
      "cell_type": "code",
      "source": [
        "# Filtering emp_df based on Age and Gender\n",
        "emp_df_filtered = emp_df[(emp_df['Age'] >= 25) & (emp_df['Gender'] == 'Female')]\n",
        "\n",
        "print(\"emp_df_filtered:\")\n",
        "print(emp_df_filtered)\n"
      ],
      "metadata": {
        "colab": {
          "base_uri": "https://localhost:8080/"
        },
        "id": "Y4lfqOOHLrEs",
        "outputId": "5cb475e5-4d5c-4a80-d6b3-8adbf596c2a7"
      },
      "execution_count": 10,
      "outputs": [
        {
          "output_type": "stream",
          "name": "stdout",
          "text": [
            "emp_df_filtered:\n",
            "    Name Education  Gender   Age  Salary_Lakhs  Bonus%  Gross_Salary_Lakhs\n",
            "YZA  YZA  Graduate  Female  28.0           7.0    7.75              7.5425\n"
          ]
        }
      ]
    },
    {
      "cell_type": "markdown",
      "source": [
        "6.2. Create 2 Subsets: ‘emp_df_grad’ & ‘emp_df_postgrad’ from ‘emp_df’ containing Information of Employees having ‘Education’ as ‘Graduate’ & ‘Postgraduate’, respectively\n"
      ],
      "metadata": {
        "id": "Zo7p2zWlL5t2"
      }
    },
    {
      "cell_type": "code",
      "source": [
        "# Creating subsets based on Education\n",
        "emp_df_grad = emp_df[emp_df['Education'] == 'Graduate']\n",
        "emp_df_postgrad = emp_df[emp_df['Education'] == 'Postgraduate']\n",
        "\n",
        "print(\"emp_df_grad:\")\n",
        "print(emp_df_grad)\n",
        "\n",
        "print(\"\\nemp_df_postgrad:\")\n",
        "print(emp_df_postgrad)\n"
      ],
      "metadata": {
        "colab": {
          "base_uri": "https://localhost:8080/"
        },
        "id": "qisT6wfnL50I",
        "outputId": "e30a2cf9-fcc8-4b6e-f285-2d81fb9bfa9a"
      },
      "execution_count": 11,
      "outputs": [
        {
          "output_type": "stream",
          "name": "stdout",
          "text": [
            "emp_df_grad:\n",
            "    Name Education  Gender   Age  Salary_Lakhs  Bonus%  Gross_Salary_Lakhs\n",
            "ABC  ABC  Graduate    Male   NaN           NaN     NaN                 NaN\n",
            "JKL  JKL  Graduate   Other   NaN           NaN     NaN                 NaN\n",
            "MNO  MNO  Graduate  Female   NaN           NaN     NaN                 NaN\n",
            "STU  STU  Graduate    Male   NaN           NaN     NaN                 NaN\n",
            "YZA  YZA  Graduate  Female  28.0           7.0    7.75              7.5425\n",
            "\n",
            "emp_df_postgrad:\n",
            "    Name     Education  Gender   Age  Salary_Lakhs  Bonus%  Gross_Salary_Lakhs\n",
            "DEF  DEF  Postgraduate  Female   NaN           NaN     NaN                 NaN\n",
            "GHI  GHI  Postgraduate    Male   NaN           NaN     NaN                 NaN\n",
            "PQR  PQR  Postgraduate  Female   NaN           NaN     NaN                 NaN\n",
            "VWX  VWX  Postgraduate    Male  35.0          14.0     5.5              14.770\n",
            "BCD  BCD  Postgraduate   Other  32.0           8.0    14.8               9.184\n"
          ]
        }
      ]
    },
    {
      "cell_type": "markdown",
      "source": [
        "7.1. Create a Dataframe ‘emp_df_merged’ to Inner Merge ‘emp_df_grad’ having only following Variables {Name, Gender, Age} with ‘emp_df_postgrad’ having only following Variables {Name, Gender, Gross_Salary_Lakhs} on ‘Gender’"
      ],
      "metadata": {
        "id": "v-SJNz9TMBzC"
      }
    },
    {
      "cell_type": "code",
      "source": [
        "# Performing an inner merge between emp_df_grad and emp_df_postgrad on 'Gender'\n",
        "emp_df_merged = pd.merge(emp_df_grad[['Name', 'Gender', 'Age']], emp_df_postgrad[['Name', 'Gender', 'Gross_Salary_Lakhs']], on='Gender', how='inner')\n",
        "\n",
        "print(\"emp_df_merged:\")\n",
        "print(emp_df_merged)\n"
      ],
      "metadata": {
        "colab": {
          "base_uri": "https://localhost:8080/"
        },
        "id": "u7pi8cwkMB5B",
        "outputId": "470a5ede-40a1-478f-9e95-5d5d7a6b73e6"
      },
      "execution_count": 12,
      "outputs": [
        {
          "output_type": "stream",
          "name": "stdout",
          "text": [
            "emp_df_merged:\n",
            "  Name_x  Gender   Age Name_y  Gross_Salary_Lakhs\n",
            "0    ABC    Male   NaN    GHI                 NaN\n",
            "1    ABC    Male   NaN    VWX              14.770\n",
            "2    STU    Male   NaN    GHI                 NaN\n",
            "3    STU    Male   NaN    VWX              14.770\n",
            "4    JKL   Other   NaN    BCD               9.184\n",
            "5    MNO  Female   NaN    DEF                 NaN\n",
            "6    MNO  Female   NaN    PQR                 NaN\n",
            "7    YZA  Female  28.0    DEF                 NaN\n",
            "8    YZA  Female  28.0    PQR                 NaN\n"
          ]
        }
      ]
    },
    {
      "cell_type": "markdown",
      "source": [
        "8.1. Group ‘emp_df’ to Create a Table ‘emp_df_gen_edu’ using ‘Gender’ & ‘Education’ having Count of Employees"
      ],
      "metadata": {
        "id": "YdUA4teNMLr8"
      }
    },
    {
      "cell_type": "code",
      "source": [
        "# Grouping emp_df by 'Gender' and 'Education' and calculating the count\n",
        "emp_df_gen_edu = emp_df.groupby(['Gender', 'Education']).size().reset_index(name='Count')\n",
        "\n",
        "print(\"emp_df_gen_edu:\")\n",
        "print(emp_df_gen_edu)\n"
      ],
      "metadata": {
        "colab": {
          "base_uri": "https://localhost:8080/"
        },
        "id": "XscGu1D9MLxZ",
        "outputId": "f6eb9cbb-2bdc-4df8-bae6-9f9b54544b6c"
      },
      "execution_count": 13,
      "outputs": [
        {
          "output_type": "stream",
          "name": "stdout",
          "text": [
            "emp_df_gen_edu:\n",
            "   Gender     Education  Count\n",
            "0  Female      Graduate      2\n",
            "1  Female  Postgraduate      2\n",
            "2    Male      Graduate      2\n",
            "3    Male  Postgraduate      2\n",
            "4   Other      Graduate      1\n",
            "5   Other  Postgraduate      1\n"
          ]
        }
      ]
    },
    {
      "cell_type": "markdown",
      "source": [
        "8.2. Group ‘emp_df’ to Create a Table ‘emp_df_gen_age_sal’ using ‘Gender’ with Average of Variables {Age & Gross_Salary_Lakhs}"
      ],
      "metadata": {
        "id": "1_okvAlLMaoV"
      }
    },
    {
      "cell_type": "code",
      "source": [
        "# Grouping emp_df by 'Gender' and calculating the average of 'Age' and 'Gross_Salary_Lakhs'\n",
        "emp_df_gen_age_sal = emp_df.groupby('Gender')[['Age', 'Gross_Salary_Lakhs']].mean().reset_index()\n",
        "\n",
        "print(\"emp_df_gen_age_sal:\")\n",
        "print(emp_df_gen_age_sal)\n"
      ],
      "metadata": {
        "colab": {
          "base_uri": "https://localhost:8080/"
        },
        "id": "dZ5wzTODMauE",
        "outputId": "3053c9ab-a30c-4ea9-d679-5a94b15aff81"
      },
      "execution_count": 14,
      "outputs": [
        {
          "output_type": "stream",
          "name": "stdout",
          "text": [
            "emp_df_gen_age_sal:\n",
            "   Gender   Age  Gross_Salary_Lakhs\n",
            "0  Female  28.0              7.5425\n",
            "1    Male  35.0             14.7700\n",
            "2   Other  32.0              9.1840\n"
          ]
        }
      ]
    },
    {
      "cell_type": "markdown",
      "source": [
        "9.1. From the following Cross-Sectional Dataframe 'df_cross_section':\n",
        "\n",
        "| Company | 2023 | 2024 |\n",
        "|---------|------|------|\n",
        "| ZYX     |  123 |  321 |\n",
        "| WVU     |  456 |  654 |\n",
        "| TSR     |  789 |  987 |\n",
        "\n",
        "Create the following Panel Dataframe 'df_panel':\n",
        "\n",
        "| Company |  Year | Profit |\n",
        "|---------|-------|--------|\n",
        "| TSR     |  2023 |    789 |\n",
        "| TSR     |  2024 |    987 |\n",
        "| WVU     |  2023 |    456 |\n",
        "| WVU     |  2024 |    654 |\n",
        "| ZYX     |  2023 |    123 |\n",
        "| ZYX     |  2024 |    321 |"
      ],
      "metadata": {
        "id": "cuyU2hYkMzOf"
      }
    },
    {
      "cell_type": "code",
      "source": [
        "import pandas as pd\n",
        "\n",
        "# Create a DataFrame from the provided data\n",
        "data = {\n",
        "    'Company': ['ZYX', 'ZYX', 'WVU', 'WVU', 'TSR', 'TSR'],\n",
        "    'Year': ['2023', '2024', '2023', '2024', '2023', '2024'],\n",
        "    'Profit': [123, 321, 456, 654, 789, 987]\n",
        "}\n",
        "\n",
        "df_cross_section = pd.DataFrame(data)\n",
        "\n",
        "# Set a MultiIndex with 'Company' and 'Year'\n",
        "df_cross_section.set_index(['Company', 'Year'], inplace=True)\n",
        "\n",
        "# Rename the index levels\n",
        "df_cross_section.index.names = ['Company', 'Year']\n",
        "\n",
        "# Print the DataFrame\n",
        "print(df_cross_section)"
      ],
      "metadata": {
        "colab": {
          "base_uri": "https://localhost:8080/"
        },
        "id": "P3jU6TEcMzVF",
        "outputId": "4a6e94ef-98ac-46e0-bde6-562d68ec5d76"
      },
      "execution_count": 15,
      "outputs": [
        {
          "output_type": "stream",
          "name": "stdout",
          "text": [
            "              Profit\n",
            "Company Year        \n",
            "ZYX     2023     123\n",
            "        2024     321\n",
            "WVU     2023     456\n",
            "        2024     654\n",
            "TSR     2023     789\n",
            "        2024     987\n"
          ]
        }
      ]
    }
  ]
}